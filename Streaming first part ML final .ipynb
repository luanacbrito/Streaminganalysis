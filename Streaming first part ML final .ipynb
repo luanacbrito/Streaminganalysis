{
 "cells": [
  {
   "cell_type": "code",
   "execution_count": 1,
   "metadata": {},
   "outputs": [],
   "source": [
    "import findspark \n",
    "findspark.init('/home/bigdata/Documents/spark-3.0.0/')"
   ]
  },
  {
   "cell_type": "code",
   "execution_count": 2,
   "metadata": {},
   "outputs": [],
   "source": [
    "from __future__ import print_function\n",
    "\n",
    "import sys"
   ]
  },
  {
   "cell_type": "code",
   "execution_count": 3,
   "metadata": {},
   "outputs": [],
   "source": [
    "from pyspark import SparkConf, SparkContext\n",
    "from pyspark.streaming import StreamingContext\n",
    "import os\n",
    "from operator import add, sub\n",
    "from pyspark.sql import Row, SparkSession\n",
    "from pyspark.sql.functions import col"
   ]
  },
  {
   "cell_type": "code",
   "execution_count": 4,
   "metadata": {},
   "outputs": [],
   "source": [
    "config = (SparkConf().setAppName(\"UNSW\").set(\"spark.executor.memory\", \"2g\"))\n",
    "\n",
    "sc = SparkContext(conf=config)\n",
    "ssc = StreamingContext(sc, 5)\n",
    "ssc.checkpoint(\"checkpoint\")"
   ]
  },
  {
   "cell_type": "code",
   "execution_count": 5,
   "metadata": {},
   "outputs": [
    {
     "name": "stdout",
     "output_type": "stream",
     "text": [
      "UNSW-NB15-41.csv\n",
      "UNSW-NB15-8.csv\n",
      "UNSW-NB15-43.csv\n",
      "UNSW-NB15-36.csv\n",
      "UNSW-NB15-39.csv\n",
      "UNSW-NB15-3.csv\n",
      "UNSW-NB15-24.csv\n",
      "UNSW-NB15-1.csv\n",
      "UNSW-NB15-14.csv\n",
      "UNSW-NB15-17.csv\n",
      "UNSW-NB15-31.csv\n",
      "UNSW-NB15-23.csv\n",
      "UNSW-NB15-32.csv\n",
      "UNSW-NB15-16.csv\n",
      "UNSW-NB15-34.csv\n",
      "UNSW-NB15-42.csv\n",
      "UNSW-NB15-12.csv\n",
      "UNSW-NB15-15.csv\n",
      "UNSW-NB15-25.csv\n",
      "UNSW-NB15-27.csv\n",
      "UNSW-NB15-45.csv\n",
      "UNSW-NB15-21.csv\n",
      "UNSW-NB15-37.csv\n",
      "UNSW-NB15-46.csv\n",
      "UNSW-NB15-26.csv\n",
      "UNSW-NB15-20.csv\n",
      "UNSW-NB15-4.csv\n",
      "UNSW-NB15-7.csv\n",
      "UNSW-NB15-29.csv\n",
      "UNSW-NB15-9.csv\n",
      "UNSW-NB15-44.csv\n",
      "UNSW-NB15-38.csv\n",
      "UNSW-NB15-13.csv\n",
      "UNSW-NB15-6.csv\n",
      "UNSW-NB15-49.csv\n",
      "UNSW-NB15-48.csv\n",
      "UNSW-NB15-2.csv\n",
      "UNSW-NB15-47.csv\n",
      "UNSW-NB15-5.csv\n",
      "UNSW-NB15-30.csv\n",
      "UNSW-NB15-10.csv\n",
      "UNSW-NB15-18.csv\n",
      "UNSW-NB15-40.csv\n",
      "UNSW-NB15-28.csv\n",
      "UNSW-NB15-35.csv\n",
      "UNSW-NB15-33.csv\n",
      "UNSW-NB15-50.csv\n",
      "UNSW-NB15-22.csv\n",
      "UNSW-NB15-19.csv\n",
      "UNSW-NB15-11.csv\n"
     ]
    }
   ],
   "source": [
    "unsw_list = list()\n",
    "# read the entire folder and add them into the Queue\n",
    "entries = os.listdir('/home/bigdata/Downloads/UNSW_data')\n",
    "for entry in entries:\n",
    "    print(entry)\n",
    "    path = \"/home/bigdata/Downloads/UNSW_data/\" + entry\n",
    "    unsw_list += [sc.textFile(path, 5)]"
   ]
  },
  {
   "cell_type": "code",
   "execution_count": 6,
   "metadata": {},
   "outputs": [
    {
     "data": {
      "text/plain": [
       "['\"175.45.176.1\",\"1043\",\"149.171.126.18\",\"53\",\"udp\",\"INT\",\"3.0000001E-6\",\"114\",\"0\",\"254\",\"0\",\"0\",\"0\",\"dns\",\"1.52E+8\",\"0\",\"2\",\"0\",\"0\",\"0\",\"0\",\"0\",\"57\",\"0\",\"0\",\"0\",\"0\",\"0\",\"1424237372\",\"1424237372\",\"0.003\",\"0\",\"0\",\"0\",\"0\",\"0\",\"2\",\"0\",\"0\",\"0\",\"31\",\"31\",\"20\",\"21\",\"20\",\"20\",\"31\",\"Generic\",\"1\"',\n",
       " '\"175.45.176.1\",\"1043\",\"149.171.126.18\",\"53\",\"udp\",\"INT\",\"3.0000001E-6\",\"114\",\"0\",\"254\",\"0\",\"0\",\"0\",\"dns\",\"1.52E+8\",\"0\",\"2\",\"0\",\"0\",\"0\",\"0\",\"0\",\"57\",\"0\",\"0\",\"0\",\"0\",\"0\",\"1424237372\",\"1424237372\",\"0.003\",\"0\",\"0\",\"0\",\"0\",\"0\",\"2\",\"0\",\"0\",\"0\",\"31\",\"31\",\"20\",\"21\",\"20\",\"20\",\"31\",\"Generic\",\"1\"']"
      ]
     },
     "execution_count": 6,
     "metadata": {},
     "output_type": "execute_result"
    }
   ],
   "source": [
    "unsw_list[49].take(2)"
   ]
  },
  {
   "cell_type": "code",
   "execution_count": 7,
   "metadata": {},
   "outputs": [],
   "source": [
    "rdd_stream = ssc.queueStream(unsw_list)"
   ]
  },
  {
   "cell_type": "code",
   "execution_count": 8,
   "metadata": {},
   "outputs": [],
   "source": [
    "def AddNormalLabel(line):\n",
    "            line =line.replace('\"','').split(\",\")\n",
    "            if line[47]== '':\n",
    "                line[47]= 'Normal'\n",
    "            elif line[47] == 'Backdoor':\n",
    "                line[47] ='Backdoors'\n",
    "            return line "
   ]
  },
  {
   "cell_type": "code",
   "execution_count": 12,
   "metadata": {},
   "outputs": [],
   "source": [
    "def getSparkSessionInstance(sparkConf):\n",
    "    if (\"sparkSessionSingletonInstance\" not in globals()):\n",
    "        globals()[\"sparkSessionSingletonInstance\"] = SparkSession \\\n",
    "            .builder \\\n",
    "            .config(conf=sparkConf) \\\n",
    "            .getOrCreate()\n",
    "    return globals()[\"sparkSessionSingletonInstance\"]\n",
    "\n",
    "Words = rdd_stream.map(AddNormalLabel)\n",
    "  "
   ]
  },
  {
   "cell_type": "code",
   "execution_count": 13,
   "metadata": {},
   "outputs": [],
   "source": [
    "Lmap= Words.filter(lambda x : x[47]) \n",
    "Attack_count = Lmap.map(lambda x : x[47])\n",
    "Attackvalue = Attack_count.countByValue() \n",
    "Attackvalue.pprint() "
   ]
  },
  {
   "cell_type": "code",
   "execution_count": 14,
   "metadata": {
    "scrolled": true
   },
   "outputs": [
    {
     "name": "stdout",
     "output_type": "stream",
     "text": [
      "-------------------------------------------\n",
      "Time: 2020-09-22 12:50:05\n",
      "-------------------------------------------\n",
      "('Normal', 50512)\n",
      "('DoS', 19)\n",
      "('Fuzzers ', 61)\n",
      "('Backdoors', 1)\n",
      "('Reconnaissance ', 59)\n",
      "('Worms', 2)\n",
      "('Shellcode ', 14)\n",
      "('Exploits', 111)\n",
      "('Generic', 16)\n",
      "\n",
      "-------------------------------------------\n",
      "Time: 2020-09-22 12:50:10\n",
      "-------------------------------------------\n",
      "('Normal', 35674)\n",
      "('Fuzzers ', 325)\n",
      "('Backdoors', 12)\n",
      "('DoS', 107)\n",
      "('Reconnaissance ', 254)\n",
      "('Shellcode ', 25)\n",
      "('Worms', 3)\n",
      "('Generic', 13828)\n",
      "('Exploits', 537)\n",
      "('Analysis', 30)\n",
      "\n",
      "-------------------------------------------\n",
      "Time: 2020-09-22 12:50:15\n",
      "-------------------------------------------\n",
      "('Normal', 42323)\n",
      "('DoS', 584)\n",
      "('Fuzzers ', 404)\n",
      "('Backdoors', 10)\n",
      "('Reconnaissance ', 298)\n",
      "('Worms', 3)\n",
      "('Shellcode ', 26)\n",
      "('Generic', 5621)\n",
      "('Exploits', 1441)\n",
      "('Analysis', 85)\n",
      "\n"
     ]
    }
   ],
   "source": [
    "ssc.start()"
   ]
  },
  {
   "cell_type": "code",
   "execution_count": 15,
   "metadata": {},
   "outputs": [
    {
     "name": "stdout",
     "output_type": "stream",
     "text": [
      "-------------------------------------------\n",
      "Time: 2020-09-22 12:50:20\n",
      "-------------------------------------------\n",
      "('Normal', 50789)\n",
      "('Reconnaissance ', 3)\n",
      "('Exploits', 3)\n",
      "\n",
      "-------------------------------------------\n",
      "Time: 2020-09-22 12:50:25\n",
      "-------------------------------------------\n",
      "('Normal', 50795)\n",
      "\n"
     ]
    }
   ],
   "source": [
    "ssc.stop(stopSparkContext=True, stopGraceFully=True)"
   ]
  },
  {
   "cell_type": "code",
   "execution_count": null,
   "metadata": {},
   "outputs": [],
   "source": []
  }
 ],
 "metadata": {
  "kernelspec": {
   "display_name": "Python 3",
   "language": "python",
   "name": "python3"
  },
  "language_info": {
   "codemirror_mode": {
    "name": "ipython",
    "version": 3
   },
   "file_extension": ".py",
   "mimetype": "text/x-python",
   "name": "python",
   "nbconvert_exporter": "python",
   "pygments_lexer": "ipython3",
   "version": "3.7.4"
  }
 },
 "nbformat": 4,
 "nbformat_minor": 2
}
